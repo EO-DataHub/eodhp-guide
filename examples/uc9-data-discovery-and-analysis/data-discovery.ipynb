{
 "cells": [
  {
   "cell_type": "code",
   "execution_count": 2,
   "id": "88320b90-bd69-4a0d-acf0-629a74619b79",
   "metadata": {},
   "outputs": [],
   "source": [
    "import os\n",
    "from dotenv import load_dotenv\n",
    "\n",
    "platform_domain = \"https://staging.eodatahub.org.uk\"\n",
    "workspace = \"sgillies-tpzuk\"\n",
    "load_dotenv(\"demo.env\")\n",
    "token = os.environ[\"API_TOKEN\"]\n",
    "workspaces_bucket = \"workspaces-eodhp-staging\""
   ]
  },
  {
   "cell_type": "markdown",
   "id": "adf702d9-6114-4213-9ace-6013cdffa38f",
   "metadata": {},
   "source": [
    "## Resource Catalogue"
   ]
  },
  {
   "cell_type": "markdown",
   "id": "03d9d0d3-291a-45f2-8927-0bc71aa26da0",
   "metadata": {},
   "source": [
    "### Searching the entire catalogue"
   ]
  },
  {
   "cell_type": "code",
   "execution_count": null,
   "id": "d342f5a2-496c-4e16-9ebb-c67afed86cad",
   "metadata": {},
   "outputs": [],
   "source": [
    "!pip install pystac-client"
   ]
  },
  {
   "cell_type": "code",
   "execution_count": null,
   "id": "8a60dd11-da3e-4be0-bd34-7e71eccf1930",
   "metadata": {},
   "outputs": [],
   "source": [
    "from pystac_client import Client\n",
    "\n",
    "# Set resource catalogue top-level url\n",
    "rc_url = f\"{platform_domain}/api/catalogue/stac\"\n",
    "\n",
    "# We can also view the STAC Catalogue using STAC Browser here \n",
    "# https://staging.eodatahub.org.uk/static-apps/stac-browser/main/index.html#/external/staging.eodatahub.org.uk/api/catalogue/stac/\n",
    "\n",
    "# Create STAC client\n",
    "stac_client = Client.open(rc_url)"
   ]
  },
  {
   "cell_type": "code",
   "execution_count": null,
   "id": "93dbd119-4c61-4678-83ae-cec4b4f5e432",
   "metadata": {},
   "outputs": [],
   "source": [
    "# See all the available children in this catalogue\n",
    "children = stac_client.get_children()\n",
    "\n",
    "for child in children:\n",
    "    print(child.id)"
   ]
  },
  {
   "cell_type": "code",
   "execution_count": null,
   "id": "a842a1d0-1e2c-4ac3-bb79-e2f2e81ef27a",
   "metadata": {},
   "outputs": [],
   "source": [
    "# See all collections available (recursive searching)\n",
    "collections = stac_client.get_collections()\n",
    "\n",
    "for collection in collections:\n",
    "    for link in collection.links:\n",
    "        if link.rel == \"self\":\n",
    "            print(f\"Collection {collection.id} can be found at {link.href}\")"
   ]
  },
  {
   "cell_type": "code",
   "execution_count": null,
   "id": "b4811e5c-54b1-4044-ad3f-885983aabf76",
   "metadata": {},
   "outputs": [],
   "source": [
    "# Do some collection searching using keywords\n",
    "collection_search = stac_client.collection_search(\n",
    "    q=\"climate\",\n",
    ")\n",
    "print(f\"{collection_search.matched()} collections found\")\n",
    "for collection in collection_search.collections():\n",
    "    print(collection.id)"
   ]
  },
  {
   "cell_type": "code",
   "execution_count": null,
   "id": "a31c2cad-e4f8-4f0e-adce-62c84f6504da",
   "metadata": {},
   "outputs": [],
   "source": [
    "# Do some collection searching using bbox\n",
    "uk_bbox = [10.854492,49.823809,100.762709,60.860699]\n",
    "collection_search = stac_client.collection_search(\n",
    "    bbox=uk_bbox,\n",
    ")\n",
    "print(f\"{collection_search.matched()} collections found\")\n",
    "for collection in collection_search.collections():\n",
    "    print(collection.id)"
   ]
  },
  {
   "cell_type": "code",
   "execution_count": null,
   "id": "de18acaa-c3f9-41a3-b005-237e2e73126c",
   "metadata": {},
   "outputs": [],
   "source": [
    "# Do some collection searching using datetime, looking into the future\n",
    "time_to_search = \"2026-01-06T00:00:00Z/..\"\n",
    "collection_search = stac_client.collection_search(\n",
    "    datetime=time_to_search,\n",
    ")\n",
    "print(f\"{collection_search.matched()} collections found\")\n",
    "for collection in collection_search.collections():\n",
    "    print(collection.id)"
   ]
  },
  {
   "cell_type": "code",
   "execution_count": null,
   "id": "d6d52477-29c0-40f9-9db4-10fdf78ae3e8",
   "metadata": {},
   "outputs": [],
   "source": [
    "# We can then get all the items in the cmip6 collection\n",
    "print(collection.id)\n",
    "items = collection.get_items()\n",
    "print(next(collection.get_items(), None))"
   ]
  },
  {
   "cell_type": "code",
   "execution_count": null,
   "id": "a21ede6f-bc44-4017-b263-8b79e1d88438",
   "metadata": {},
   "outputs": [],
   "source": [
    "# Do some item searching\n",
    "# Geometry for the UK\n",
    "geom = {\n",
    "    \"type\": \"Polygon\",\n",
    "    \"coordinates\": [\n",
    "        [\n",
    "            [-4.41191386337143, 50.5437323318846],\n",
    "            [-2.86223024423239, 50.5522106222613],\n",
    "            [-2.86502949737798, 49.564676297854],\n",
    "            [-4.3832372671439, 49.5564878434316],\n",
    "            [-4.41191386337143, 50.5437323318846]\n",
    "        ]\n",
    "    ],\n",
    "}\n",
    "search = stac_client.search(\n",
    "    max_items=10,\n",
    "    collections=['cmip6'],\n",
    "    intersects=geom,\n",
    ")\n",
    "for item in search.items():\n",
    "    print(item.id)"
   ]
  },
  {
   "cell_type": "code",
   "execution_count": null,
   "id": "60f8414a-16a7-4816-9bd3-9b86280e1ae7",
   "metadata": {},
   "outputs": [],
   "source": [
    "# We can then see the assets for one of these items\n",
    "assets = item.get_assets()\n",
    "\n",
    "for asset in assets:\n",
    "    print(f\"Asset {asset} is available at {assets[asset].href}\")"
   ]
  },
  {
   "cell_type": "code",
   "execution_count": 17,
   "id": "c44b5576-7b62-4b25-924f-b68a1261e17b",
   "metadata": {},
   "outputs": [
    {
     "ename": "NameError",
     "evalue": "name 'item' is not defined",
     "output_type": "error",
     "traceback": [
      "\u001b[0;31m---------------------------------------------------------------------------\u001b[0m",
      "\u001b[0;31mNameError\u001b[0m                                 Traceback (most recent call last)",
      "Cell \u001b[0;32mIn[17], line 52\u001b[0m\n\u001b[1;32m     49\u001b[0m     \u001b[38;5;28mprint\u001b[39m(\u001b[38;5;124mf\u001b[39m\u001b[38;5;124m\"\u001b[39m\u001b[38;5;124mCloud cover is \u001b[39m\u001b[38;5;132;01m{\u001b[39;00mitem\u001b[38;5;241m.\u001b[39mproperties[\u001b[38;5;124m'\u001b[39m\u001b[38;5;124meo:cloud_cover\u001b[39m\u001b[38;5;124m'\u001b[39m]\u001b[38;5;132;01m}\u001b[39;00m\u001b[38;5;124m\"\u001b[39m)\n\u001b[1;32m     51\u001b[0m \u001b[38;5;66;03m# To then use such an item in a workflow, you can retrieve the href\u001b[39;00m\n\u001b[0;32m---> 52\u001b[0m \u001b[38;5;28;01mfor\u001b[39;00m link \u001b[38;5;129;01min\u001b[39;00m \u001b[43mitem\u001b[49m\u001b[38;5;241m.\u001b[39mlinks:\n\u001b[1;32m     53\u001b[0m     \u001b[38;5;28;01mif\u001b[39;00m link\u001b[38;5;241m.\u001b[39mrel \u001b[38;5;241m==\u001b[39m \u001b[38;5;124m\"\u001b[39m\u001b[38;5;124mself\u001b[39m\u001b[38;5;124m\"\u001b[39m:\n\u001b[1;32m     54\u001b[0m         \u001b[38;5;28mprint\u001b[39m(\u001b[38;5;124mf\u001b[39m\u001b[38;5;124m\"\u001b[39m\u001b[38;5;124mSelf href for item \u001b[39m\u001b[38;5;132;01m{\u001b[39;00mitem\u001b[38;5;241m.\u001b[39mid\u001b[38;5;132;01m}\u001b[39;00m\u001b[38;5;124m is \u001b[39m\u001b[38;5;132;01m{\u001b[39;00mlink\u001b[38;5;241m.\u001b[39mhref\u001b[38;5;132;01m}\u001b[39;00m\u001b[38;5;124m\"\u001b[39m)\n",
      "\u001b[0;31mNameError\u001b[0m: name 'item' is not defined"
     ]
    }
   ],
   "source": [
    "# Demonstrate that we support more complex searching via filters extension\n",
    "filter = {\n",
    "        \"op\": \"and\",\n",
    "        \"args\": [\n",
    "          {\n",
    "            \"op\": \"between\",\n",
    "            \"args\": [\n",
    "              {\n",
    "                \"property\": \"properties.datetime\"\n",
    "              },\n",
    "              \"2020-01-12T00:00:00.000Z\",\n",
    "              \"2025-02-12T23:59:59.999Z\"\n",
    "            ]\n",
    "          },\n",
    "          {\n",
    "            \"op\": \"and\",\n",
    "            \"args\": [\n",
    "              {\n",
    "                \"op\": \"=\",\n",
    "                \"args\": [\n",
    "                  {\n",
    "                    \"property\": \"collection\"\n",
    "                  },\n",
    "                  \"sentinel2_ard\"\n",
    "                ]\n",
    "              },\n",
    "              {\n",
    "                \"op\": \"<=\",\n",
    "                \"args\": [\n",
    "                  {\n",
    "                    \"property\": \"properties.eo:cloud_cover\"\n",
    "                  },\n",
    "                  5\n",
    "                ]\n",
    "              }\n",
    "            ]\n",
    "          }\n",
    "        ]\n",
    "      }\n",
    "    \n",
    "search = stac_client.search(\n",
    "    max_items=10,\n",
    "    filter=filter\n",
    ")\n",
    "\n",
    "for item in search.items():\n",
    "    print(item.id)\n",
    "    print(f\"Datetime is {item.properties['datetime']}\")\n",
    "    print(f\"Cloud cover is {item.properties['eo:cloud_cover']}\")\n",
    "\n",
    "# To then use such an item in a workflow, you can retrieve the href\n",
    "for link in item.links:\n",
    "    if link.rel == \"self\":\n",
    "        print(f\"Self href for item {item.id} is {link.href}\")"
   ]
  },
  {
   "cell_type": "markdown",
   "id": "e2d2196d-0022-4b18-a90d-222bc8979abf",
   "metadata": {},
   "source": [
    "### Our deployment also supports nested catalogs, which we can return by listing the children for a specific catalog"
   ]
  },
  {
   "cell_type": "code",
   "execution_count": 18,
   "id": "8a67f209-cca1-4978-a9ce-bac7c9fd8644",
   "metadata": {},
   "outputs": [],
   "source": [
    "# Return children for a given nested catalog\n",
    "from pystac_client import Client\n",
    "\n",
    "# Set resource catalogue top-level url\n",
    "rc_url = f\"{platform_domain}/api/catalogue/stac/catalogs/supported-datasets\"\n",
    "\n",
    "# We can also view the STAC Catalogue using STAC Browser here \n",
    "# https://staging.eodatahub.org.uk/static-apps/stac-browser/main/index.html#/external/staging.eodatahub.org.uk/api/catalogue/stac/catalogs/supported-datasets\n",
    "\n",
    "# Create STAC client\n",
    "stac_client = Client.open(rc_url)"
   ]
  },
  {
   "cell_type": "code",
   "execution_count": 19,
   "id": "48b5d4cc-8b00-45cc-b2ed-07af9c00d0b1",
   "metadata": {},
   "outputs": [
    {
     "name": "stdout",
     "output_type": "stream",
     "text": [
      "airbus\n",
      "airbus_phr_data\n",
      "ceda-stac-catalogue\n",
      "cci\n",
      "planet\n",
      "PSScene\n",
      "shahid-catalogue\n",
      "shahid-collection\n"
     ]
    }
   ],
   "source": [
    "# See all the available children in this catalogue\n",
    "children = stac_client.get_children()\n",
    "\n",
    "for child in children:\n",
    "    print(child.id)\n",
    "    # We will also print the first three collections in each\n",
    "    print(next(child.get_children()).id)"
   ]
  },
  {
   "cell_type": "code",
   "execution_count": 20,
   "id": "b3b3d8c6-f5f8-44b4-ac9d-b4ccdd0fec88",
   "metadata": {},
   "outputs": [
    {
     "name": "stdout",
     "output_type": "stream",
     "text": [
      "cci\n",
      "cmip6\n",
      "cordex\n",
      "eocis-aerosol-slstr-daily-s3a\n",
      "eocis-aerosol-slstr-daily-s3b\n",
      "eocis-aerosol-slstr-monthly-s3a\n",
      "eocis-aerosol-slstr-monthly-s3b\n",
      "eocis-lst-day\n",
      "eocis-lst-s3a-day\n",
      "eocis-lst-s3a-night\n",
      "eocis-lst-s3b-day\n",
      "eocis-lst-s3b-night\n",
      "eocis-sst-cdrv3\n",
      "eocis-sst-cdrv3-climatology\n",
      "land_cover\n",
      "sentinel1\n",
      "sentinel2_ard\n",
      "ukcp\n"
     ]
    }
   ],
   "source": [
    "# Then we can see the child collections for one of these catalogs\n",
    "# See all the available children in this catalogue\n",
    "children = stac_client.get_children()\n",
    "\n",
    "for child in children:\n",
    "    if child.id == \"ceda-stac-catalogue\":\n",
    "        ceda_catalog = child\n",
    "        break\n",
    "\n",
    "collections = ceda_catalog.get_children()\n",
    "\n",
    "for collection in collections:\n",
    "    print(collection.id)"
   ]
  },
  {
   "cell_type": "markdown",
   "id": "de3e3b74-eab6-43bf-9d3b-4c0c74861b90",
   "metadata": {},
   "source": [
    "### We can also access private catalogs by providing credentials to the client"
   ]
  },
  {
   "cell_type": "code",
   "execution_count": 30,
   "id": "b17ed88e-649e-4a37-8e1c-3830d623d97f",
   "metadata": {},
   "outputs": [],
   "source": [
    "# Return children for a given nested catalog\n",
    "from pystac_client import Client\n",
    "\n",
    "# Set resource catalogue top-level url\n",
    "rc_url = f\"{platform_domain}/api/catalogue/stac/catalogs/user-datasets\"\n",
    "\n",
    "# We can also view the STAC Catalogue using STAC Browser here \n",
    "# https://staging.eodatahub.org.uk/static-apps/stac-browser/main/index.html#/external/staging.eodatahub.org.uk/api/catalogue/stac/catalogs/user-datasets\n",
    "\n",
    "# Create STAC client without authentication\n",
    "stac_client = Client.open(rc_url)"
   ]
  },
  {
   "cell_type": "code",
   "execution_count": 31,
   "id": "e8fdc730-2907-4ec6-86a0-d7d411c0463b",
   "metadata": {},
   "outputs": [],
   "source": [
    "# See all the available children in this catalogue\n",
    "children = stac_client.get_children()\n",
    "\n",
    "# We can then see that no child catalogs are provided, as auth is required for user catalogs\n",
    "\n",
    "for child in children:\n",
    "    print(child.id)\n"
   ]
  },
  {
   "cell_type": "code",
   "execution_count": 32,
   "id": "d1323bc2-c28b-4113-91f9-204128ccb632",
   "metadata": {},
   "outputs": [
    {
     "name": "stdout",
     "output_type": "stream",
     "text": [
      "sgillies-tpzuk\n"
     ]
    }
   ],
   "source": [
    "# And now with authentication\n",
    "# Create STAC client\n",
    "stac_client = Client.open(rc_url, headers={\"Authorization\": f\"Bearer {token}\"})\n",
    "\n",
    "# See all the available children in this catalogue\n",
    "children = stac_client.get_children()\n",
    "\n",
    "# We can then see the child catalogs\n",
    "\n",
    "for child in children:\n",
    "    print(child.id)"
   ]
  },
  {
   "cell_type": "code",
   "execution_count": 33,
   "id": "db279b98-ab30-4b35-a0b3-b9e510e4dd76",
   "metadata": {},
   "outputs": [
    {
     "name": "stdout",
     "output_type": "stream",
     "text": [
      "cat_1277254e-e950-11ef-b749-ca3e8cd28499\n",
      "cat_3f4db7ca-ed08-11ef-b95b-ca3e8cd28499\n"
     ]
    }
   ],
   "source": [
    "# Navigate to workflow output sub catalog\n",
    "# And now with authentication\n",
    "# Create STAC client\n",
    "stac_client = Client.open(rc_url, headers={\"Authorization\": f\"Bearer {token}\"})\n",
    "# See all the available children in this catalogue\n",
    "children = stac_client.get_children()\n",
    "# We can then see the child catalogs\n",
    "for child in children:\n",
    "    if child.id == workspace:\n",
    "        priv_cat = child\n",
    "        break\n",
    "priv_cat_children = priv_cat.get_children()\n",
    "for cat in priv_cat_children:\n",
    "    if cat.id == \"processing-results\":\n",
    "        proc_res_cat = cat\n",
    "for workflow_cat in proc_res_cat.get_children():\n",
    "    if workflow_cat.id == \"convert-url-test\":\n",
    "        for job in workflow_cat.get_children():\n",
    "            print(job.id)"
   ]
  },
  {
   "cell_type": "code",
   "execution_count": 35,
   "id": "80f7ceb0-f75f-43e8-bd84-6f35d9aea500",
   "metadata": {},
   "outputs": [],
   "source": [
    "# Print output collection from workflow\n",
    "\n",
    "collections = job.get_collections()\n",
    "\n",
    "collection = next(collections)\n",
    "items = collection.get_items()"
   ]
  },
  {
   "cell_type": "markdown",
   "id": "5ead3f6d-cde9-44e2-bdbc-66a4c087d6d1",
   "metadata": {},
   "source": [
    "### We also include a proxy for searching the Planet API"
   ]
  },
  {
   "cell_type": "code",
   "execution_count": 28,
   "id": "8305f6c1-33c9-441e-87c9-84bd7d141383",
   "metadata": {},
   "outputs": [],
   "source": [
    "# Return children for a given nested catalog\n",
    "from pystac_client import Client\n",
    "\n",
    "# Set resource catalogue top-level url\n",
    "rc_url = f\"{platform_domain}/api/catalogue/stac/catalogs/supported-datasets/catalogs/planet\"\n",
    "\n",
    "# Create STAC client without authentication\n",
    "stac_client = Client.open(rc_url)"
   ]
  },
  {
   "cell_type": "code",
   "execution_count": 29,
   "id": "fd1c866c-3c7c-49f0-abed-1a944ad85823",
   "metadata": {},
   "outputs": [
    {
     "name": "stdout",
     "output_type": "stream",
     "text": [
      "PSScene\n",
      "REOrthoTile\n",
      "REScene\n",
      "SkySatCollect\n",
      "SkySatScene\n",
      "SkySatVideo\n",
      "TanagerMethane\n",
      "TanagerScene\n"
     ]
    }
   ],
   "source": [
    "# Now search for some items\n",
    "collections = stac_client.get_children()\n",
    "\n",
    "for collection in collections:\n",
    "    print(collection.id)"
   ]
  },
  {
   "cell_type": "markdown",
   "id": "d17d02b9-4f3a-4a80-abdf-836e37a4dc0f",
   "metadata": {},
   "source": [
    "## Data Adaptors"
   ]
  },
  {
   "cell_type": "markdown",
   "id": "e17f9eff-e75a-478c-ae30-580b96416fab",
   "metadata": {},
   "source": [
    "This will start an Airbus SAR order"
   ]
  },
  {
   "cell_type": "code",
   "execution_count": 37,
   "id": "0ffbe6ee-83dc-4059-a63a-f1c07c6f9d3f",
   "metadata": {},
   "outputs": [
    {
     "name": "stdout",
     "output_type": "stream",
     "text": [
      "Status Code 200\n",
      "Response  {'message': 'Item ordered successfully'}\n"
     ]
    }
   ],
   "source": [
    "import requests\n",
    "\n",
    "url = f\"{platform_domain}/api/catalogue/manage/catalogs/user-datasets/{workspace}/commercial-data\"\n",
    "headers = {\n",
    "    \"accept\": \"application/json\", \n",
    "    \"Content-Type\": \"application/json\", \n",
    "    \"Authorization\": f\"Bearer {token}\"\n",
    "}\n",
    "data =  {\n",
    "    \"url\": f\"{platform_domain}/api/catalogue/stac/catalogs/supported-datasets/catalogs/airbus/collections/airbus_sar_data/items/TSX-1_WS_S_wide_001R_97985_D33003943_29000\",  \n",
    "    \"product_bundle\": \"general_use\"\n",
    "}\n",
    "\n",
    "response = requests.post(url, headers=headers, json=data)\n",
    "\n",
    "print(\"Status Code\", response.status_code)\n",
    "print(\"Response \", response.json())"
   ]
  },
  {
   "cell_type": "markdown",
   "id": "4a88dc9b-a53e-4eca-9869-7799401a4302",
   "metadata": {},
   "source": [
    "This will start an Airbus PHR order"
   ]
  },
  {
   "cell_type": "code",
   "execution_count": 38,
   "id": "80095e57-e53d-4aea-b35d-baeeb736687b",
   "metadata": {},
   "outputs": [
    {
     "name": "stdout",
     "output_type": "stream",
     "text": [
      "Status Code 200\n",
      "Response  {'message': 'Item ordered successfully'}\n"
     ]
    }
   ],
   "source": [
    "import requests\n",
    "\n",
    "url = f'{platform_domain}/api/catalogue/manage/catalogs/user-datasets/{workspace}/commercial-data'\n",
    "headers = {\n",
    "    'accept': 'application/json', \n",
    "    'Content-Type': 'application/json', \n",
    "    'Authorization': f'Bearer {token}'\n",
    "}\n",
    "data =  {\n",
    "    \"url\": \"https://staging.eodatahub.org.uk/api/catalogue/stac/catalogs/supported-datasets/catalogs/airbus/collections/airbus_phr_data/items/DS_PHR1A_201203021558128_FR1_PX_W080S03_0221_01728\",  \n",
    "    \"product_bundle\": \"general_use\", \n",
    "    \"coordinates\": [\n",
    "        [\n",
    "            [-79.8,-2.1], \n",
    "            [-79.8,-2.2], \n",
    "            [-79.95,-2.2], \n",
    "            [-79.95,-2.1], \n",
    "            [-79.8,-2.1]\n",
    "        ]\n",
    "    ]\n",
    "}\n",
    "\n",
    "response = requests.post(url, headers=headers, json=data)\n",
    "\n",
    "print(\"Status Code\", response.status_code)\n",
    "print(\"Response \", response.json())"
   ]
  },
  {
   "cell_type": "markdown",
   "id": "1360aea9-3645-4462-a301-f6524ddd507e",
   "metadata": {},
   "source": [
    "This will start a Planet order"
   ]
  },
  {
   "cell_type": "code",
   "execution_count": 3,
   "id": "667c1059-ee2f-47fd-9fe8-c23369bf27e1",
   "metadata": {},
   "outputs": [
    {
     "name": "stdout",
     "output_type": "stream",
     "text": [
      "Status Code 200\n",
      "Response  {'message': 'Item ordered successfully'}\n",
      "https://staging.eodatahub.org.uk/api/catalogue/stac/catalogs/user-datasets/catalogs/sgillies-tpzuk/catalogs/commercial-data/catalogs/planet/catalogs\n"
     ]
    }
   ],
   "source": [
    "import requests\n",
    "\n",
    "url = f'{platform_domain}/api/catalogue/manage/catalogs/user-datasets/{workspace}/commercial-data'\n",
    "headers = {\n",
    "    'accept': 'application/json', \n",
    "    'Content-Type': 'application/json', \n",
    "    'Authorization': f'Bearer {token}'\n",
    "}\n",
    "data =  {\n",
    "    \"url\": \"https://staging.eodatahub.org.uk/api/catalogue/stac/catalogs/supported-datasets/catalogs/planet/collections/PSScene/items/20250217_101155_07_24c7\",  \n",
    "    \"product_bundle\": \"analytic_udm2\", \n",
    "    \"coordinates\": [\n",
    "        [\n",
    "            [9.6, 57.1],\n",
    "            [9.6, 57.0],\n",
    "            [9.8, 56.9],\n",
    "            [9.8, 57.0],\n",
    "            [9.6, 57.1]\n",
    "        ]\n",
    "    ]\n",
    "}\n",
    "\n",
    "response = requests.post(url, headers=headers, json=data)\n",
    "\n",
    "print(\"Status Code\", response.status_code)\n",
    "print(\"Response \", response.json())\n",
    "\n",
    "print(f\"{platform_domain}/api/catalogue/stac/catalogs/user-datasets/catalogs/{workspace}/catalogs/commercial-data/catalogs/planet/catalogs\")"
   ]
  },
  {
   "cell_type": "markdown",
   "id": "9afb80de-b023-4d1c-80d6-9529ba59856a",
   "metadata": {},
   "source": [
    "## EO Packages\n",
    "\n",
    "Users can install EO data packages to view their data"
   ]
  },
  {
   "cell_type": "code",
   "execution_count": 4,
   "id": "5934a163-004a-40e7-8227-67dc9ea00165",
   "metadata": {},
   "outputs": [
    {
     "name": "stdout",
     "output_type": "stream",
     "text": [
      "Collecting matplotlib\n",
      "  Using cached matplotlib-3.10.0-cp312-cp312-manylinux_2_17_x86_64.manylinux2014_x86_64.whl.metadata (11 kB)\n",
      "Requirement already satisfied: numpy in /opt/conda/lib/python3.12/site-packages (2.2.3)\n",
      "Collecting pillow\n",
      "  Using cached pillow-11.1.0-cp312-cp312-manylinux_2_28_x86_64.whl.metadata (9.1 kB)\n",
      "Collecting folium\n",
      "  Using cached folium-0.19.4-py2.py3-none-any.whl.metadata (3.8 kB)\n",
      "Collecting contourpy>=1.0.1 (from matplotlib)\n",
      "  Using cached contourpy-1.3.1-cp312-cp312-manylinux_2_17_x86_64.manylinux2014_x86_64.whl.metadata (5.4 kB)\n",
      "Collecting cycler>=0.10 (from matplotlib)\n",
      "  Using cached cycler-0.12.1-py3-none-any.whl.metadata (3.8 kB)\n",
      "Collecting fonttools>=4.22.0 (from matplotlib)\n",
      "  Using cached fonttools-4.56.0-cp312-cp312-manylinux_2_5_x86_64.manylinux1_x86_64.manylinux_2_17_x86_64.manylinux2014_x86_64.whl.metadata (101 kB)\n",
      "Collecting kiwisolver>=1.3.1 (from matplotlib)\n",
      "  Using cached kiwisolver-1.4.8-cp312-cp312-manylinux_2_17_x86_64.manylinux2014_x86_64.whl.metadata (6.2 kB)\n",
      "Requirement already satisfied: packaging>=20.0 in /opt/conda/lib/python3.12/site-packages (from matplotlib) (24.2)\n",
      "Collecting pyparsing>=2.3.1 (from matplotlib)\n",
      "  Using cached pyparsing-3.2.1-py3-none-any.whl.metadata (5.0 kB)\n",
      "Requirement already satisfied: python-dateutil>=2.7 in /opt/conda/lib/python3.12/site-packages (from matplotlib) (2.9.0.post0)\n",
      "Collecting branca>=0.6.0 (from folium)\n",
      "  Using cached branca-0.8.1-py3-none-any.whl.metadata (1.5 kB)\n",
      "Requirement already satisfied: jinja2>=2.9 in /opt/conda/lib/python3.12/site-packages (from folium) (3.1.5)\n",
      "Requirement already satisfied: requests in /opt/conda/lib/python3.12/site-packages (from folium) (2.32.3)\n",
      "Collecting xyzservices (from folium)\n",
      "  Using cached xyzservices-2025.1.0-py3-none-any.whl.metadata (4.3 kB)\n",
      "Requirement already satisfied: MarkupSafe>=2.0 in /opt/conda/lib/python3.12/site-packages (from jinja2>=2.9->folium) (3.0.2)\n",
      "Requirement already satisfied: six>=1.5 in /opt/conda/lib/python3.12/site-packages (from python-dateutil>=2.7->matplotlib) (1.17.0)\n",
      "Requirement already satisfied: charset_normalizer<4,>=2 in /opt/conda/lib/python3.12/site-packages (from requests->folium) (3.4.1)\n",
      "Requirement already satisfied: idna<4,>=2.5 in /opt/conda/lib/python3.12/site-packages (from requests->folium) (3.10)\n",
      "Requirement already satisfied: urllib3<3,>=1.21.1 in /opt/conda/lib/python3.12/site-packages (from requests->folium) (2.3.0)\n",
      "Requirement already satisfied: certifi>=2017.4.17 in /opt/conda/lib/python3.12/site-packages (from requests->folium) (2024.12.14)\n",
      "Using cached matplotlib-3.10.0-cp312-cp312-manylinux_2_17_x86_64.manylinux2014_x86_64.whl (8.6 MB)\n",
      "Using cached pillow-11.1.0-cp312-cp312-manylinux_2_28_x86_64.whl (4.5 MB)\n",
      "Using cached folium-0.19.4-py2.py3-none-any.whl (110 kB)\n",
      "Using cached branca-0.8.1-py3-none-any.whl (26 kB)\n",
      "Using cached contourpy-1.3.1-cp312-cp312-manylinux_2_17_x86_64.manylinux2014_x86_64.whl (323 kB)\n",
      "Using cached cycler-0.12.1-py3-none-any.whl (8.3 kB)\n",
      "Using cached fonttools-4.56.0-cp312-cp312-manylinux_2_5_x86_64.manylinux1_x86_64.manylinux_2_17_x86_64.manylinux2014_x86_64.whl (4.9 MB)\n",
      "Using cached kiwisolver-1.4.8-cp312-cp312-manylinux_2_17_x86_64.manylinux2014_x86_64.whl (1.5 MB)\n",
      "Using cached pyparsing-3.2.1-py3-none-any.whl (107 kB)\n",
      "Using cached xyzservices-2025.1.0-py3-none-any.whl (88 kB)\n",
      "Installing collected packages: xyzservices, pyparsing, pillow, kiwisolver, fonttools, cycler, contourpy, matplotlib, branca, folium\n",
      "Successfully installed branca-0.8.1 contourpy-1.3.1 cycler-0.12.1 folium-0.19.4 fonttools-4.56.0 kiwisolver-1.4.8 matplotlib-3.10.0 pillow-11.1.0 pyparsing-3.2.1 xyzservices-2025.1.0\n"
     ]
    },
    {
     "data": {
      "text/html": [
       "<div style=\"width:100%;\"><div style=\"position:relative;width:100%;height:0;padding-bottom:60%;\"><span style=\"color:#565656\">Make this Notebook Trusted to load map: File -> Trust Notebook</span><iframe srcdoc=\"&lt;!DOCTYPE html&gt;\n",
       "&lt;html&gt;\n",
       "&lt;head&gt;\n",
       "    \n",
       "    &lt;meta http-equiv=&quot;content-type&quot; content=&quot;text/html; charset=UTF-8&quot; /&gt;\n",
       "    \n",
       "        &lt;script&gt;\n",
       "            L_NO_TOUCH = false;\n",
       "            L_DISABLE_3D = false;\n",
       "        &lt;/script&gt;\n",
       "    \n",
       "    &lt;style&gt;html, body {width: 100%;height: 100%;margin: 0;padding: 0;}&lt;/style&gt;\n",
       "    &lt;style&gt;#map {position:absolute;top:0;bottom:0;right:0;left:0;}&lt;/style&gt;\n",
       "    &lt;script src=&quot;https://cdn.jsdelivr.net/npm/leaflet@1.9.3/dist/leaflet.js&quot;&gt;&lt;/script&gt;\n",
       "    &lt;script src=&quot;https://code.jquery.com/jquery-3.7.1.min.js&quot;&gt;&lt;/script&gt;\n",
       "    &lt;script src=&quot;https://cdn.jsdelivr.net/npm/bootstrap@5.2.2/dist/js/bootstrap.bundle.min.js&quot;&gt;&lt;/script&gt;\n",
       "    &lt;script src=&quot;https://cdnjs.cloudflare.com/ajax/libs/Leaflet.awesome-markers/2.0.2/leaflet.awesome-markers.js&quot;&gt;&lt;/script&gt;\n",
       "    &lt;link rel=&quot;stylesheet&quot; href=&quot;https://cdn.jsdelivr.net/npm/leaflet@1.9.3/dist/leaflet.css&quot;/&gt;\n",
       "    &lt;link rel=&quot;stylesheet&quot; href=&quot;https://cdn.jsdelivr.net/npm/bootstrap@5.2.2/dist/css/bootstrap.min.css&quot;/&gt;\n",
       "    &lt;link rel=&quot;stylesheet&quot; href=&quot;https://netdna.bootstrapcdn.com/bootstrap/3.0.0/css/bootstrap-glyphicons.css&quot;/&gt;\n",
       "    &lt;link rel=&quot;stylesheet&quot; href=&quot;https://cdn.jsdelivr.net/npm/@fortawesome/fontawesome-free@6.2.0/css/all.min.css&quot;/&gt;\n",
       "    &lt;link rel=&quot;stylesheet&quot; href=&quot;https://cdnjs.cloudflare.com/ajax/libs/Leaflet.awesome-markers/2.0.2/leaflet.awesome-markers.css&quot;/&gt;\n",
       "    &lt;link rel=&quot;stylesheet&quot; href=&quot;https://cdn.jsdelivr.net/gh/python-visualization/folium/folium/templates/leaflet.awesome.rotate.min.css&quot;/&gt;\n",
       "    \n",
       "            &lt;meta name=&quot;viewport&quot; content=&quot;width=device-width,\n",
       "                initial-scale=1.0, maximum-scale=1.0, user-scalable=no&quot; /&gt;\n",
       "            &lt;style&gt;\n",
       "                #map_82d8e1a87a1b352183132ae5f0d355fc {\n",
       "                    position: relative;\n",
       "                    width: 100.0%;\n",
       "                    height: 100.0%;\n",
       "                    left: 0.0%;\n",
       "                    top: 0.0%;\n",
       "                }\n",
       "                .leaflet-container { font-size: 1rem; }\n",
       "            &lt;/style&gt;\n",
       "        \n",
       "&lt;/head&gt;\n",
       "&lt;body&gt;\n",
       "    \n",
       "    \n",
       "            &lt;div class=&quot;folium-map&quot; id=&quot;map_82d8e1a87a1b352183132ae5f0d355fc&quot; &gt;&lt;/div&gt;\n",
       "        \n",
       "&lt;/body&gt;\n",
       "&lt;script&gt;\n",
       "    \n",
       "    \n",
       "            var map_82d8e1a87a1b352183132ae5f0d355fc = L.map(\n",
       "                &quot;map_82d8e1a87a1b352183132ae5f0d355fc&quot;,\n",
       "                {\n",
       "                    center: [52.54333250662745, -0.005835880485932421],\n",
       "                    crs: L.CRS.EPSG3857,\n",
       "                    ...{\n",
       "  &quot;zoom&quot;: 8,\n",
       "  &quot;zoomControl&quot;: true,\n",
       "  &quot;preferCanvas&quot;: false,\n",
       "}\n",
       "\n",
       "                }\n",
       "            );\n",
       "\n",
       "            \n",
       "\n",
       "        \n",
       "    \n",
       "            var tile_layer_a89dc1fd38095b156729ae5e39e6f8de = L.tileLayer(\n",
       "                &quot;https://tile.openstreetmap.org/{z}/{x}/{y}.png&quot;,\n",
       "                {\n",
       "  &quot;minZoom&quot;: 0,\n",
       "  &quot;maxZoom&quot;: 19,\n",
       "  &quot;maxNativeZoom&quot;: 19,\n",
       "  &quot;noWrap&quot;: false,\n",
       "  &quot;attribution&quot;: &quot;\\u0026copy; \\u003ca href=\\&quot;https://www.openstreetmap.org/copyright\\&quot;\\u003eOpenStreetMap\\u003c/a\\u003e contributors&quot;,\n",
       "  &quot;subdomains&quot;: &quot;abc&quot;,\n",
       "  &quot;detectRetina&quot;: false,\n",
       "  &quot;tms&quot;: false,\n",
       "  &quot;opacity&quot;: 1,\n",
       "}\n",
       "\n",
       "            );\n",
       "        \n",
       "    \n",
       "            tile_layer_a89dc1fd38095b156729ae5e39e6f8de.addTo(map_82d8e1a87a1b352183132ae5f0d355fc);\n",
       "        \n",
       "    \n",
       "            var marker_2b1bd0557cfd9e05595be8989f73a33b = L.marker(\n",
       "                [52.672193937442586, -0.683261054299237],\n",
       "                {\n",
       "}\n",
       "            ).addTo(map_82d8e1a87a1b352183132ae5f0d355fc);\n",
       "        \n",
       "    \n",
       "            var icon_fca4af7056a058f4cc009f37ea979d8c = L.AwesomeMarkers.icon(\n",
       "                {\n",
       "  &quot;markerColor&quot;: &quot;blue&quot;,\n",
       "  &quot;iconColor&quot;: &quot;white&quot;,\n",
       "  &quot;icon&quot;: &quot;info-sign&quot;,\n",
       "  &quot;prefix&quot;: &quot;glyphicon&quot;,\n",
       "  &quot;extraClasses&quot;: &quot;fa-rotate-0&quot;,\n",
       "}\n",
       "            );\n",
       "            marker_2b1bd0557cfd9e05595be8989f73a33b.setIcon(icon_fca4af7056a058f4cc009f37ea979d8c);\n",
       "        \n",
       "    \n",
       "        var popup_f03a604bab6bda68ca1d9dc692712cfd = L.popup({\n",
       "  &quot;maxWidth&quot;: &quot;100%&quot;,\n",
       "});\n",
       "\n",
       "        \n",
       "            \n",
       "                var html_23670e017f1a52a6bee38e9c39bd7211 = $(`&lt;div id=&quot;html_23670e017f1a52a6bee38e9c39bd7211&quot; style=&quot;width: 100.0%; height: 100.0%;&quot;&gt;Rutland Site&lt;/div&gt;`)[0];\n",
       "                popup_f03a604bab6bda68ca1d9dc692712cfd.setContent(html_23670e017f1a52a6bee38e9c39bd7211);\n",
       "            \n",
       "        \n",
       "\n",
       "        marker_2b1bd0557cfd9e05595be8989f73a33b.bindPopup(popup_f03a604bab6bda68ca1d9dc692712cfd)\n",
       "        ;\n",
       "\n",
       "        \n",
       "    \n",
       "    \n",
       "            var marker_7db0a3c2f2f6f455fb2da8d14b7797a7 = L.marker(\n",
       "                [52.414471075812315, 0.6715892933273722],\n",
       "                {\n",
       "}\n",
       "            ).addTo(map_82d8e1a87a1b352183132ae5f0d355fc);\n",
       "        \n",
       "    \n",
       "            var icon_642681c4828494bab7c92ea219afaae0 = L.AwesomeMarkers.icon(\n",
       "                {\n",
       "  &quot;markerColor&quot;: &quot;green&quot;,\n",
       "  &quot;iconColor&quot;: &quot;white&quot;,\n",
       "  &quot;icon&quot;: &quot;info-sign&quot;,\n",
       "  &quot;prefix&quot;: &quot;glyphicon&quot;,\n",
       "  &quot;extraClasses&quot;: &quot;fa-rotate-0&quot;,\n",
       "}\n",
       "            );\n",
       "            marker_7db0a3c2f2f6f455fb2da8d14b7797a7.setIcon(icon_642681c4828494bab7c92ea219afaae0);\n",
       "        \n",
       "    \n",
       "        var popup_dc7cc8dcf48af50431f05bbef87476ca = L.popup({\n",
       "  &quot;maxWidth&quot;: &quot;100%&quot;,\n",
       "});\n",
       "\n",
       "        \n",
       "            \n",
       "                var html_45101ccea4c252d1846fecc539ba26f8 = $(`&lt;div id=&quot;html_45101ccea4c252d1846fecc539ba26f8&quot; style=&quot;width: 100.0%; height: 100.0%;&quot;&gt;Thetford Site&lt;/div&gt;`)[0];\n",
       "                popup_dc7cc8dcf48af50431f05bbef87476ca.setContent(html_45101ccea4c252d1846fecc539ba26f8);\n",
       "            \n",
       "        \n",
       "\n",
       "        marker_7db0a3c2f2f6f455fb2da8d14b7797a7.bindPopup(popup_dc7cc8dcf48af50431f05bbef87476ca)\n",
       "        ;\n",
       "\n",
       "        \n",
       "    \n",
       "&lt;/script&gt;\n",
       "&lt;/html&gt;\" style=\"position:absolute;width:100%;height:100%;left:0;top:0;border:none !important;\" allowfullscreen webkitallowfullscreen mozallowfullscreen></iframe></div></div>"
      ],
      "text/plain": [
       "<folium.folium.Map at 0x7f11139ba570>"
      ]
     },
     "execution_count": 4,
     "metadata": {},
     "output_type": "execute_result"
    }
   ],
   "source": [
    "import sys\n",
    "!{sys.executable} -m pip install --upgrade matplotlib numpy pillow folium\n",
    "\n",
    "import os\n",
    "\n",
    "import shapely \n",
    "import geopandas as gpd\n",
    "import folium\n",
    "\n",
    "import urllib.request\n",
    "from io import BytesIO \n",
    "from PIL import Image\n",
    "\n",
    "rut_pnt = shapely.Point(-0.683261054299237, 52.672193937442586) # a site near Rutland\n",
    "thet_pnt = shapely.Point(0.6715892933273722, 52.414471075812315) # a site near Thetford\n",
    "\n",
    "# Optional cell\n",
    "# If you want to see these points on a map run this cell\n",
    "\n",
    "# Create a map (m) centered between the two points\n",
    "center_lat = (rut_pnt.y + thet_pnt.y) / 2\n",
    "center_lon = (rut_pnt.x + thet_pnt.x) / 2\n",
    "\n",
    "m = folium.Map(location=[center_lat, center_lon], zoom_start=8)\n",
    "\n",
    "# Add markers for each point\n",
    "folium.Marker([rut_pnt.y, rut_pnt.x], popup=\"Rutland Site\", icon=folium.Icon(color=\"blue\")).add_to(m)\n",
    "folium.Marker([thet_pnt.y, thet_pnt.x], popup=\"Thetford Site\", icon=folium.Icon(color=\"green\")).add_to(m)\n",
    "\n",
    "# Step 4: Display the map\n",
    "m"
   ]
  },
  {
   "cell_type": "markdown",
   "id": "0e1762fa-75c5-4237-a44e-f0a5dc0a0eb8",
   "metadata": {},
   "source": [
    "## PyEODH\n",
    "\n",
    "A user can use Oxidian's PyEODH client to work with the UK EO DataHub's API."
   ]
  },
  {
   "cell_type": "code",
   "execution_count": 5,
   "id": "33de29c4-39fe-45d2-b011-e6358749af2f",
   "metadata": {},
   "outputs": [
    {
     "name": "stdout",
     "output_type": "stream",
     "text": [
      "ukcp: Regional climate model projections produced as part of the UK Climate Projection 2018 (UKCP18) project. The data produced by the Met Office Hadley Centre provides information on changes in climate for the UK until 2080, downscaled to a high resolution (12km), helping to inform adaptation to a changing climate. The projections cover Europe and a 100 year period, 1981-2080, for a high emissions scenario, RCP8.5. Each projection provides an example of climate variability in a changing climate, which is consistent across climate variables at different times and spatial locations. This dataset contains 12km data for the United Kingdom, the Isle of Man and the Channel Islands provided on the Ordnance Survey's British National Grid.\n",
      "sentinel2_ard: These data have been created by the Department for Environment, Food and Rural Affairs (Defra) and Joint Nature Conservation Committee (JNCC) in order to cost-effectively provide high quality, Analysis Ready Data (ARD) for a wide range of applications. The dataset contains modified Copernicus Sentinel-2 (Level 1C data processed into a surface reflectance product using ARCSI software (Level 2)).\n",
      "sentinel1: This dataset contains level 1 Interferometric Wide swath (IW) Single Look Complex (SLC) C-band Synthetic Aperture Radar (SAR) data from the European Space Agency (ESA) Sentinel 1 series satellites. Sentinel 1 satellites provide continuous all-weather, day and night imaging radar data. The IW mode is the main operational mode. The IW mode supports single (HH or VV) and dual (HH+HV or VV+VH) polarisation.\n",
      "sentinel-2-l2a: Global Sentinel-2 data from the Multispectral Instrument (MSI) onboard Sentinel-2\n",
      "sentinel-2-l1c: Global Sentinel-2 data from the Multispectral Instrument (MSI) onboard Sentinel-2\n",
      "sentinel-2-c1-l2a: Sentinel-2 Collection 1 L2A, data from the Multispectral Instrument (MSI) onboard Sentinel-2\n",
      "sentinel-1-grd: Sentinel-1 is a pair of Synthetic Aperture Radar (SAR) imaging satellites launched in 2014 and 2016 by the European Space Agency (ESA). Their 6 day revisit cycle and ability to observe through clouds makes this dataset perfect for sea and land monitoring, emergency response due to environmental disasters, and economic applications. This dataset represents the global Sentinel-1 GRD archive, from beginning to the present, converted to cloud-optimized GeoTIFF format.\n",
      "land_cover: As part of the ESA Land Cover Climate Change Initiative (CCI) project a new set of Global Land Cover Maps have been produced. These maps are available at 300m spatial resolution for each year between 1992 and 2015. Each pixel value corresponds to the classification of a land cover class defined based on the UN Land Cover Classification System (LCCS). The reliability of the classifications made are documented by the four quality flags (decribed further in the Product User Guide) that accompany these maps. Data are provided in both NetCDF and GeoTiff format.\n",
      "eocis-sst-cdrv3-climatology: ESA SST CCI Climatology v3.0\n",
      "eocis-sst-cdrv3: This dataset provides daily estimates of global sea surface temperature (SST) based on observations from multiple satellite sensors. Resolution: 5km.  Available from 1980 onwards.\n"
     ]
    }
   ],
   "source": [
    "import pyeodh\n",
    "\n",
    "# Connect to the Hub\n",
    "client = pyeodh.Client().get_catalog_service()\n",
    "\n",
    "# Print a list of the collections held in the Resource Catalogue (their id and description).\n",
    "# As the Resource Catalogue fills and development continues, the number of collections and the richness of their descriptions will increase\n",
    "for collect in client.get_collections():\n",
    "    print(f\"{collect.id}: {collect.description}\")"
   ]
  },
  {
   "cell_type": "code",
   "execution_count": null,
   "id": "1b3498e7-15d4-476f-beb2-3bf09f3587e8",
   "metadata": {},
   "outputs": [],
   "source": []
  }
 ],
 "metadata": {
  "kernelspec": {
   "display_name": "Python 3 (ipykernel)",
   "language": "python",
   "name": "python3"
  },
  "language_info": {
   "codemirror_mode": {
    "name": "ipython",
    "version": 3
   },
   "file_extension": ".py",
   "mimetype": "text/x-python",
   "name": "python",
   "nbconvert_exporter": "python",
   "pygments_lexer": "ipython3",
   "version": "3.12.8"
  }
 },
 "nbformat": 4,
 "nbformat_minor": 5
}
