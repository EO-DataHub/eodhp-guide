{
 "cells": [
  {
   "cell_type": "markdown",
   "metadata": {},
   "source": [
    "# Part 1 - Data Visualisation of Workflow Outputs"
   ]
  },
  {
   "cell_type": "code",
   "execution_count": null,
   "metadata": {},
   "outputs": [],
   "source": [
    "pip install requests boto3"
   ]
  },
  {
   "cell_type": "markdown",
   "metadata": {},
   "source": [
    "### Set required variables"
   ]
  },
  {
   "cell_type": "code",
   "execution_count": null,
   "metadata": {},
   "outputs": [],
   "source": [
    "import os\n",
    "from dotenv import load_dotenv\n",
    "\n",
    "load_dotenv(\".env\")\n",
    "\n",
    "# Set the location of the workflow output\n",
    "WORKFLOW_OUTPUT_ASSET = ''\n",
    "\n",
    "# Set your workspace API key\n",
    "WORKSPACE_API_KEY = os.environ[\"WORKSPACE_API_KEY\"]\n",
    "\n",
    "# Environment\n",
    "environment = 'staging'"
   ]
  },
  {
   "cell_type": "markdown",
   "metadata": {},
   "source": [
    "### Previewing the Asset before serving it"
   ]
  },
  {
   "cell_type": "markdown",
   "metadata": {},
   "source": [
    "Experiment with different rescales and colormap options to see what works best for your data.\n",
    "\n",
    "Example colormaps: `'accent', 'accent_r', 'afmhot', 'afmhot_r', 'algae', 'algae_r', 'amp', 'amp_r', 'autumn', 'autumn_r', 'balance', 'balance_r', 'binary', 'binary_r', 'blues', 'blues_r', 'bone', 'bone_r', 'brbg', 'brbg_r', 'brg', 'brg_r', 'bugn', ...`"
   ]
  },
  {
   "cell_type": "code",
   "execution_count": null,
   "metadata": {},
   "outputs": [],
   "source": [
    "import requests\n",
    "from IPython.display import Image, display\n",
    "\n",
    "TITILER_PREVIEW_URL = f'https://{environment}.eodatahub.org.uk/titiler/core/cog/preview'\n",
    "TITILER_PREVIEW_PARAMS = {\n",
    "    'url': WORKFLOW_OUTPUT_ASSET,\n",
    "    'bidx': 1,\n",
    "    'rescale': '9,255',\n",
    "    'colormap_name': 'rain_r'\n",
    "}\n",
    "\n",
    "response = requests.get(TITILER_PREVIEW_URL, params=TITILER_PREVIEW_PARAMS, headers={'Authorization': f'Bearer {WORKSPACE_API_KEY}'})\n",
    "\n",
    "# Display the image\n",
    "image = Image(response.content)\n",
    "display(image)"
   ]
  },
  {
   "cell_type": "markdown",
   "metadata": {},
   "source": [
    "### Visualise this in a 3rd Party Application (QGIS)\n",
    "\n",
    "To visualise the data in a 3rd party application, we can use the Hub's OGC XYZ Tile Service.\n",
    "\n",
    "This OGC service works both for public and private datasets. For private datasets, you will need to add an `Authorization` header to your requests.\n",
    "\n",
    "#### Public\n",
    "\n",
    "This is an example public ESA CCI Land Cover dataset we can use as a basemap.\n",
    "\n",
    "```\n",
    "https://staging.eodatahub.org.uk/titiler/core/cog/tiles/WebMercatorQuad/{z}/{x}/{y}?scale=1&url=https%3A%2F%2Fdap.ceda.ac.uk%2Fneodc%2Fesacci%2Fland_cover%2Fdata%2Fland_cover_maps%2Fv2.0.7%2FESACCI-LC-L4-LCCS-Map-300m-P1Y-2015-v2.0.7.tif&bidx=1&rescale=0%2C300&colormap_name=rainbow\n",
    "```"
   ]
  },
  {
   "cell_type": "code",
   "execution_count": null,
   "metadata": {},
   "outputs": [
    {
     "data": {
      "text/plain": [
       "'https://staging.eodatahub.org.uk/titiler/core/cog/tiles/WebMercatorQuad/{z}/{x}/{y}?url=https://workspaces-eodhp-staging.s3.eu-west-2.amazonaws.com/james-hinton/outputs/S2A_20230213_lat57lon209_T30VWJ_ORB037_utm30n_osgb_vmsk_sharp_rad_srefdem_stdsref.tif&bidx=1&rescale=9,255&colormap_name=rain_r'"
      ]
     },
     "execution_count": 37,
     "metadata": {},
     "output_type": "execute_result"
    }
   ],
   "source": [
    "TITILER_TILES_URL = 'https://' + environment + '.eodatahub.org.uk/titiler/core/cog/tiles/WebMercatorQuad/{z}/{x}/{y}'\n",
    "\n",
    "TITILER_TILES_URL + '?' + '&'.join([f'{k}={v}' for k, v in TITILER_PREVIEW_PARAMS.items()])"
   ]
  },
  {
   "cell_type": "markdown",
   "metadata": {},
   "source": [
    "# Part 2 - Publishing a Workspace File\n",
    "\n",
    "We can publish workspace results by copying them to the public directory. This example does it for an S3 file, but it also applies to an EFS file."
   ]
  },
  {
   "cell_type": "code",
   "execution_count": null,
   "metadata": {},
   "outputs": [],
   "source": [
    "import boto3\n",
    "import requests\n",
    "\n",
    "workspace = \"james-hinton\"\n",
    "workspaces_bucket = f\"workspaces-eodhp-{environment}\"\n",
    "filepath = \"commercial-data/test.json\"\n",
    "\n",
    "# Confirm file is not published\n",
    "resp = requests.head(\n",
    "    f\"https://{workspace}.{environment}.eodatahub-workspaces.org.uk/files/workspaces-eodhp-{environment}/{filepath}\", \n",
    "    headers={\"accept\": \"application/json\"}\n",
    ")\n",
    "print(f\"File is not publically accessible: status={resp.status_code}\")"
   ]
  },
  {
   "cell_type": "markdown",
   "metadata": {},
   "source": [
    "### Publish the file by copying it to the `public` directory."
   ]
  },
  {
   "cell_type": "code",
   "execution_count": null,
   "metadata": {},
   "outputs": [],
   "source": [
    "s3 = boto3.client(\"s3\")\n",
    "src = f\"{workspace}/{filepath}\"\n",
    "dest = f\"{workspace}/public/{filepath}\"\n",
    "\n",
    "s3.copy(\n",
    "    {\n",
    "        \"Bucket\": workspaces_bucket, \n",
    "        \"Key\": src\n",
    "    }, \n",
    "    workspaces_bucket, \n",
    "    dest,\n",
    ")\n",
    "\n",
    "print(f\"File published: {dest}\")"
   ]
  },
  {
   "cell_type": "markdown",
   "metadata": {},
   "source": [
    "### Confirm that the file has been published"
   ]
  },
  {
   "cell_type": "code",
   "execution_count": null,
   "metadata": {},
   "outputs": [],
   "source": [
    "resp = requests.head(\n",
    "    f\"https://{workspace}.{environment}.eodatahub-workspaces.org.uk/files/workspaces-eodhp-{environment}/public/{filepath}\", \n",
    "    headers={\"accept\": \"application/json\"}\n",
    ")\n",
    "\n",
    "print(f\"File is publically accessible: status={resp.status_code}\")"
   ]
  }
 ],
 "metadata": {
  "kernelspec": {
   "display_name": ".venv",
   "language": "python",
   "name": "python3"
  },
  "language_info": {
   "codemirror_mode": {
    "name": "ipython",
    "version": 3
   },
   "file_extension": ".py",
   "mimetype": "text/x-python",
   "name": "python",
   "nbconvert_exporter": "python",
   "pygments_lexer": "ipython3",
   "version": "3.12.3"
  }
 },
 "nbformat": 4,
 "nbformat_minor": 2
}
