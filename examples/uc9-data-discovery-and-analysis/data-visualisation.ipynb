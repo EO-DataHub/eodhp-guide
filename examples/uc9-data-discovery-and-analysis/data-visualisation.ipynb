{
 "cells": [
  {
   "cell_type": "markdown",
   "metadata": {},
   "source": [
    "# Data Visualisation of Workflow Outputs"
   ]
  },
  {
   "cell_type": "code",
   "execution_count": null,
   "metadata": {},
   "outputs": [],
   "source": [
    "pip install requests"
   ]
  },
  {
   "cell_type": "markdown",
   "metadata": {},
   "source": [
    "### Set required variables"
   ]
  },
  {
   "cell_type": "code",
   "execution_count": 2,
   "metadata": {},
   "outputs": [],
   "source": [
    "# Set the location of the workflow output\n",
    "WORKFLOW_OUTPUT_ASSET = ''\n",
    "\n",
    "# Set your workspace API key\n",
    "WORKSPACE_API_KEY = ''\n",
    "\n",
    "# Environment\n",
    "environment = 'staging'"
   ]
  },
  {
   "cell_type": "markdown",
   "metadata": {},
   "source": [
    "### Previewing the Asset before serving it"
   ]
  },
  {
   "cell_type": "markdown",
   "metadata": {},
   "source": [
    "Experiment with different rescales and colormap options to see what works best for your data.\n",
    "\n",
    "Example colormaps: `'accent', 'accent_r', 'afmhot', 'afmhot_r', 'algae', 'algae_r', 'amp', 'amp_r', 'autumn', 'autumn_r', 'balance', 'balance_r', 'binary', 'binary_r', 'blues', 'blues_r', 'bone', 'bone_r', 'brbg', 'brbg_r', 'brg', 'brg_r', 'bugn', ...`"
   ]
  },
  {
   "cell_type": "code",
   "execution_count": null,
   "metadata": {},
   "outputs": [],
   "source": [
    "import requests\n",
    "from IPython.display import Image, display\n",
    "\n",
    "TITILER_PREVIEW_URL = f'https://{environment}.eodatahub.org.uk/titiler/core/cog/preview'\n",
    "TITILER_PREVIEW_PARAMS = {\n",
    "    'url': WORKFLOW_OUTPUT_ASSET,\n",
    "    'bidx': 1,\n",
    "    'rescale': '9,255',\n",
    "    'colormap_name': 'rain_r'\n",
    "}\n",
    "\n",
    "response = requests.get(TITILER_PREVIEW_URL, params=TITILER_PREVIEW_PARAMS, headers={'Authorization': f'Bearer {WORKSPACE_API_KEY}'})\n",
    "\n",
    "# Display the image\n",
    "image = Image(response.content)\n",
    "display(image)"
   ]
  },
  {
   "cell_type": "markdown",
   "metadata": {},
   "source": [
    "### Visualise this in a 3rd Party Application (QGIS)\n",
    "\n",
    "To visualise the data in a 3rd party application, we can use the Hub's OGC XYZ Tile Service.\n",
    "\n",
    "This OGC service works both for public and private datasets. For private datasets, you will need to add an `Authorization` header to your requests.\n",
    "\n",
    "#### Public\n",
    "\n",
    "This is an example public ESA CCI Land Cover dataset we can use as a basemap.\n",
    "\n",
    "```\n",
    "https://staging.eodatahub.org.uk/titiler/core/cog/tiles/WebMercatorQuad/{z}/{x}/{y}?scale=1&url=https%3A%2F%2Fdap.ceda.ac.uk%2Fneodc%2Fesacci%2Fland_cover%2Fdata%2Fland_cover_maps%2Fv2.0.7%2FESACCI-LC-L4-LCCS-Map-300m-P1Y-2015-v2.0.7.tif&bidx=1&rescale=0%2C300&colormap_name=rainbow\n",
    "```"
   ]
  },
  {
   "cell_type": "code",
   "execution_count": 37,
   "metadata": {},
   "outputs": [
    {
     "data": {
      "text/plain": [
       "'https://staging.eodatahub.org.uk/titiler/core/cog/tiles/WebMercatorQuad/{z}/{x}/{y}?url=https://workspaces-eodhp-staging.s3.eu-west-2.amazonaws.com/james-hinton/outputs/S2A_20230213_lat57lon209_T30VWJ_ORB037_utm30n_osgb_vmsk_sharp_rad_srefdem_stdsref.tif&bidx=1&rescale=9,255&colormap_name=rain_r'"
      ]
     },
     "execution_count": 37,
     "metadata": {},
     "output_type": "execute_result"
    }
   ],
   "source": [
    "TITILER_TILES_URL = 'https://' + environment + '.eodatahub.org.uk/titiler/core/cog/tiles/WebMercatorQuad/{z}/{x}/{y}'\n",
    "\n",
    "TITILER_TILES_URL + '?' + '&'.join([f'{k}={v}' for k, v in TITILER_PREVIEW_PARAMS.items()])\n"
   ]
  },
  {
   "cell_type": "markdown",
   "metadata": {},
   "source": [
    "## Publish Workspace File\n",
    "\n",
    "We can publish workspace results by copying them to the public directory. This example does it for an S3 file, but it also applies to an EFS file."
   ]
  },
  {
   "cell_type": "code",
   "execution_count": null,
   "metadata": {},
   "outputs": [
    {
     "name": "stdout",
     "output_type": "stream",
     "text": [
      "File is not publically accessible: status=401\n"
     ]
    },
    {
     "ename": "ClientError",
     "evalue": "An error occurred (403) when calling the HeadObject operation: Forbidden",
     "output_type": "error",
     "traceback": [
      "\u001b[0;31m---------------------------------------------------------------------------\u001b[0m",
      "\u001b[0;31mClientError\u001b[0m                               Traceback (most recent call last)",
      "Cell \u001b[0;32mIn[12], line 17\u001b[0m\n\u001b[1;32m     15\u001b[0m \u001b[38;5;66;03m# Publish the file\u001b[39;00m\n\u001b[1;32m     16\u001b[0m s3 \u001b[38;5;241m=\u001b[39m boto3\u001b[38;5;241m.\u001b[39mclient(\u001b[38;5;124m\"\u001b[39m\u001b[38;5;124ms3\u001b[39m\u001b[38;5;124m\"\u001b[39m)\n\u001b[0;32m---> 17\u001b[0m \u001b[43ms3\u001b[49m\u001b[38;5;241;43m.\u001b[39;49m\u001b[43mhead_object\u001b[49m\u001b[43m(\u001b[49m\u001b[43mBucket\u001b[49m\u001b[38;5;241;43m=\u001b[39;49m\u001b[43mworkspaces_bucket\u001b[49m\u001b[43m,\u001b[49m\u001b[43m \u001b[49m\u001b[43mKey\u001b[49m\u001b[38;5;241;43m=\u001b[39;49m\u001b[38;5;124;43mf\u001b[39;49m\u001b[38;5;124;43m\"\u001b[39;49m\u001b[38;5;132;43;01m{\u001b[39;49;00m\u001b[43mworkspace\u001b[49m\u001b[38;5;132;43;01m}\u001b[39;49;00m\u001b[38;5;124;43m/\u001b[39;49m\u001b[38;5;132;43;01m{\u001b[39;49;00m\u001b[43mfilepath\u001b[49m\u001b[38;5;132;43;01m}\u001b[39;49;00m\u001b[38;5;124;43m\"\u001b[39;49m\u001b[43m)\u001b[49m\n\u001b[1;32m     18\u001b[0m s3\u001b[38;5;241m.\u001b[39mcopy(\n\u001b[1;32m     19\u001b[0m     {\n\u001b[1;32m     20\u001b[0m         \u001b[38;5;124m\"\u001b[39m\u001b[38;5;124mBucket\u001b[39m\u001b[38;5;124m\"\u001b[39m: workspaces_bucket, \n\u001b[0;32m   (...)\u001b[0m\n\u001b[1;32m     24\u001b[0m     \u001b[38;5;124mf\u001b[39m\u001b[38;5;124m\"\u001b[39m\u001b[38;5;132;01m{\u001b[39;00mworkspace\u001b[38;5;132;01m}\u001b[39;00m\u001b[38;5;124m/public/\u001b[39m\u001b[38;5;132;01m{\u001b[39;00mfilepath\u001b[38;5;132;01m}\u001b[39;00m\u001b[38;5;124m\"\u001b[39m,\n\u001b[1;32m     25\u001b[0m )\n\u001b[1;32m     27\u001b[0m \u001b[38;5;66;03m# Confirm file is published\u001b[39;00m\n",
      "File \u001b[0;32m~/Code/eodhp-guide/examples/uc9-data-discovery-and-analysis/.venv/lib/python3.10/site-packages/botocore/client.py:569\u001b[0m, in \u001b[0;36mClientCreator._create_api_method.<locals>._api_call\u001b[0;34m(self, *args, **kwargs)\u001b[0m\n\u001b[1;32m    565\u001b[0m     \u001b[38;5;28;01mraise\u001b[39;00m \u001b[38;5;167;01mTypeError\u001b[39;00m(\n\u001b[1;32m    566\u001b[0m         \u001b[38;5;124mf\u001b[39m\u001b[38;5;124m\"\u001b[39m\u001b[38;5;132;01m{\u001b[39;00mpy_operation_name\u001b[38;5;132;01m}\u001b[39;00m\u001b[38;5;124m() only accepts keyword arguments.\u001b[39m\u001b[38;5;124m\"\u001b[39m\n\u001b[1;32m    567\u001b[0m     )\n\u001b[1;32m    568\u001b[0m \u001b[38;5;66;03m# The \"self\" in this scope is referring to the BaseClient.\u001b[39;00m\n\u001b[0;32m--> 569\u001b[0m \u001b[38;5;28;01mreturn\u001b[39;00m \u001b[38;5;28;43mself\u001b[39;49m\u001b[38;5;241;43m.\u001b[39;49m\u001b[43m_make_api_call\u001b[49m\u001b[43m(\u001b[49m\u001b[43moperation_name\u001b[49m\u001b[43m,\u001b[49m\u001b[43m \u001b[49m\u001b[43mkwargs\u001b[49m\u001b[43m)\u001b[49m\n",
      "File \u001b[0;32m~/Code/eodhp-guide/examples/uc9-data-discovery-and-analysis/.venv/lib/python3.10/site-packages/botocore/client.py:1023\u001b[0m, in \u001b[0;36mBaseClient._make_api_call\u001b[0;34m(self, operation_name, api_params)\u001b[0m\n\u001b[1;32m   1019\u001b[0m     error_code \u001b[38;5;241m=\u001b[39m error_info\u001b[38;5;241m.\u001b[39mget(\u001b[38;5;124m\"\u001b[39m\u001b[38;5;124mQueryErrorCode\u001b[39m\u001b[38;5;124m\"\u001b[39m) \u001b[38;5;129;01mor\u001b[39;00m error_info\u001b[38;5;241m.\u001b[39mget(\n\u001b[1;32m   1020\u001b[0m         \u001b[38;5;124m\"\u001b[39m\u001b[38;5;124mCode\u001b[39m\u001b[38;5;124m\"\u001b[39m\n\u001b[1;32m   1021\u001b[0m     )\n\u001b[1;32m   1022\u001b[0m     error_class \u001b[38;5;241m=\u001b[39m \u001b[38;5;28mself\u001b[39m\u001b[38;5;241m.\u001b[39mexceptions\u001b[38;5;241m.\u001b[39mfrom_code(error_code)\n\u001b[0;32m-> 1023\u001b[0m     \u001b[38;5;28;01mraise\u001b[39;00m error_class(parsed_response, operation_name)\n\u001b[1;32m   1024\u001b[0m \u001b[38;5;28;01melse\u001b[39;00m:\n\u001b[1;32m   1025\u001b[0m     \u001b[38;5;28;01mreturn\u001b[39;00m parsed_response\n",
      "\u001b[0;31mClientError\u001b[0m: An error occurred (403) when calling the HeadObject operation: Forbidden"
     ]
    }
   ],
   "source": [
    "import boto3\n",
    "import requests\n",
    "\n",
    "env = \"staging\"\n",
    "workspace = \"sgillies-tpzuk\"\n",
    "workspaces_bucket = f\"workspaces-eodhp-{env}\"\n",
    "filepath = \"commercial-data/airbus/cat_68c72942-eddf-11ef-b4a3-ca3e8cd28499.json\"\n",
    "\n",
    "# Confirm file is not published\n",
    "resp = requests.head(\n",
    "    f\"https://{workspace}.{env}.eodatahub-workspaces.org.uk/files/workspaces-eodhp-{env}/{filepath}\", \n",
    "    headers={\"accept\": \"application/json\"}\n",
    ")\n",
    "print(f\"File is not publically accessible: status={resp.status_code}\")\n",
    "\n",
    "# Publish the file\n",
    "s3 = boto3.client(\"s3\")\n",
    "src = f\"{workspace}/{filepath}\"\n",
    "dest = f\"{workspace}/public/{filepath}\"\n",
    "print(f\"Copying {src} to {dest} in bucket {workspaces_bucket}...\")\n",
    "s3.copy(\n",
    "    {\n",
    "        \"Bucket\": workspaces_bucket, \n",
    "        \"Key\": src\n",
    "    }, \n",
    "    workspaces_bucket, \n",
    "    dest,\n",
    ")\n",
    "\n",
    "# Confirm file is published\n",
    "resp = requests.head(\n",
    "    f\"https://{workspace}.{env}.eodatahub-workspaces.org.uk/files/workspaces-eodhp-{env}/public/{filepath}\", \n",
    "    headers={\"accept\": \"application/json\"}\n",
    ")\n",
    "print(f\"File is publically accessible: status={resp.status_code}\")\n"
   ]
  }
 ],
 "metadata": {
  "kernelspec": {
   "display_name": ".venv",
   "language": "python",
   "name": "python3"
  },
  "language_info": {
   "codemirror_mode": {
    "name": "ipython",
    "version": 3
   },
   "file_extension": ".py",
   "mimetype": "text/x-python",
   "name": "python",
   "nbconvert_exporter": "python",
   "pygments_lexer": "ipython3",
   "version": "3.10.12"
  }
 },
 "nbformat": 4,
 "nbformat_minor": 2
}
