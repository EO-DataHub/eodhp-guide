{
 "cells": [
  {
   "cell_type": "code",
   "execution_count": null,
   "metadata": {},
   "outputs": [],
   "source": [
    "pip install --user boto3"
   ]
  },
  {
   "cell_type": "code",
   "execution_count": null,
   "metadata": {},
   "outputs": [],
   "source": [
    "import boto3\n",
    "import os\n",
    "\n",
    "s3 = boto3.resource('s3')\n",
    "bucket_name = os.environ.get(\"S3_BUCKET_WORKSPACE\")\n",
    "# bucket_name = \"eodhp-test-workspaces1\"  # direct access to S3 - should not work\n",
    "print(bucket_name)\n",
    "bucket = s3.Bucket(name=bucket_name)"
   ]
  },
  {
   "cell_type": "code",
   "execution_count": null,
   "metadata": {},
   "outputs": [],
   "source": [
    "prefix = \"my-user/\"\n",
    "# prefix = \"another-user/\"  # another user's directory - should not work\n",
    "for obj in bucket.objects.filter(Prefix=prefix):\n",
    "    print(obj)"
   ]
  },
  {
   "cell_type": "code",
   "execution_count": null,
   "metadata": {},
   "outputs": [],
   "source": [
    "key = \"my-user/test.txt\"  # file exists in my prefix\n",
    "# key = \"another-user/test.txt\"  # file exists in another user's prefix - should not work\n",
    "obj = s3.Object(bucket_name, key)\n",
    "print(obj.get())"
   ]
  }
 ],
 "metadata": {
  "kernelspec": {
   "display_name": "Python 3",
   "language": "python",
   "name": "python3"
  },
  "language_info": {
   "codemirror_mode": {
    "name": "ipython",
    "version": 3
   },
   "file_extension": ".py",
   "mimetype": "text/x-python",
   "name": "python",
   "nbconvert_exporter": "python",
   "pygments_lexer": "ipython3",
   "version": "3.7.6"
  }
 },
 "nbformat": 4,
 "nbformat_minor": 4
}
